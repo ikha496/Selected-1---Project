{
 "cells": [
  {
   "cell_type": "markdown",
   "metadata": {
    "id": "0BtYW67vu8oC"
   },
   "source": [
    "### **Necessary Imports**"
   ]
  },
  {
   "cell_type": "code",
   "execution_count": 2,
   "metadata": {
    "colab": {
     "base_uri": "https://localhost:8080/"
    },
    "executionInfo": {
     "elapsed": 3265,
     "status": "ok",
     "timestamp": 1632750119907,
     "user": {
      "displayName": "Saksham Jain",
      "photoUrl": "https://lh3.googleusercontent.com/a/default-user=s64",
      "userId": "07973480947527882420"
     },
     "user_tz": -330
    },
    "id": "YScZsVWTvPNr",
    "outputId": "15dda509-9674-4bef-9601-21e99abf4e59"
   },
   "outputs": [
    {
     "name": "stdout",
     "output_type": "stream",
     "text": [
      "Requirement already satisfied: plotly in c:\\users\\mody2\\anaconda3\\lib\\site-packages (5.4.0)\n",
      "Requirement already satisfied: tenacity>=6.2.0 in c:\\users\\mody2\\anaconda3\\lib\\site-packages (from plotly) (8.0.1)\n",
      "Requirement already satisfied: six in c:\\users\\mody2\\anaconda3\\lib\\site-packages (from plotly) (1.12.0)\n"
     ]
    }
   ],
   "source": [
    "import tensorflow as tf\n",
    "import numpy as np\n",
    "import matplotlib.pyplot as plt\n",
    "import seaborn as sns\n",
    "!pip install plotly\n",
    "import plotly\n",
    "import plotly.express as px\n",
    "from mpl_toolkits.mplot3d import Axes3D"
   ]
  },
  {
   "cell_type": "markdown",
   "metadata": {
    "id": "q79FoCN9u8lK"
   },
   "source": [
    "### **Gathering Dataset**"
   ]
  },
  {
   "cell_type": "markdown",
   "metadata": {
    "id": "1Nwtvgm-vicb"
   },
   "source": [
    "Loading the Data"
   ]
  },
  {
   "cell_type": "code",
   "execution_count": 3,
   "metadata": {
    "colab": {
     "base_uri": "https://localhost:8080/"
    },
    "executionInfo": {
     "elapsed": 541,
     "status": "ok",
     "timestamp": 1632750120445,
     "user": {
      "displayName": "Saksham Jain",
      "photoUrl": "https://lh3.googleusercontent.com/a/default-user=s64",
      "userId": "07973480947527882420"
     },
     "user_tz": -330
    },
    "id": "jAHqGvOGvj4z",
    "outputId": "1b81639f-0cea-46ea-fef4-0c39eba1c4ee"
   },
   "outputs": [
    {
     "name": "stdout",
     "output_type": "stream",
     "text": [
      "shape of x_train:  (60000, 28, 28)\n",
      "shape of x_test:  (10000, 28, 28)\n"
     ]
    }
   ],
   "source": [
    "mnist = tf.keras.datasets.mnist\n",
    "\n",
    "(x_train, y_train), (x_test, y_test) = mnist.load_data()\n",
    "x_train, x_test = x_train / 255.0, x_test / 255.0\n",
    "\n",
    "print(\"shape of x_train: \", x_train.shape)\n",
    "print(\"shape of x_test: \", x_test.shape)"
   ]
  },
  {
   "cell_type": "markdown",
   "metadata": {
    "id": "sV7E8Igsu8iK"
   },
   "source": [
    "### **Instantiate or Build the Model**"
   ]
  },
  {
   "cell_type": "code",
   "execution_count": 4,
   "metadata": {
    "executionInfo": {
     "elapsed": 8,
     "status": "ok",
     "timestamp": 1632750120445,
     "user": {
      "displayName": "Saksham Jain",
      "photoUrl": "https://lh3.googleusercontent.com/a/default-user=s64",
      "userId": "07973480947527882420"
     },
     "user_tz": -330
    },
    "id": "LXrH3UuI7a_O"
   },
   "outputs": [
    {
     "name": "stdout",
     "output_type": "stream",
     "text": [
      "WARNING:tensorflow:From C:\\Users\\MODY2\\Anaconda3\\lib\\site-packages\\tensorflow\\python\\ops\\init_ops.py:1251: calling VarianceScaling.__init__ (from tensorflow.python.ops.init_ops) with dtype is deprecated and will be removed in a future version.\n",
      "Instructions for updating:\n",
      "Call initializer instance with the dtype argument instead of passing it to the constructor\n"
     ]
    }
   ],
   "source": [
    "model = tf.keras.models.Sequential([\n",
    "    tf.keras.layers.Flatten(input_shape=(28, 28)),\n",
    "    tf.keras.layers.Dense(128, activation= 'relu'),\n",
    "    tf.keras.layers.Dropout(0.2),\n",
    "    tf.keras.layers.Dense(10, activation='softmax')\n",
    "])"
   ]
  },
  {
   "cell_type": "markdown",
   "metadata": {
    "id": "pXvbGnL4u8fa"
   },
   "source": [
    "### **Compile & Train the model**"
   ]
  },
  {
   "cell_type": "code",
   "execution_count": 5,
   "metadata": {
    "executionInfo": {
     "elapsed": 7,
     "status": "ok",
     "timestamp": 1632750120446,
     "user": {
      "displayName": "Saksham Jain",
      "photoUrl": "https://lh3.googleusercontent.com/a/default-user=s64",
      "userId": "07973480947527882420"
     },
     "user_tz": -330
    },
    "id": "7uCaSrK56iDn"
   },
   "outputs": [],
   "source": [
    "model.compile(optimizer='adam',\n",
    "              loss='sparse_categorical_crossentropy',\n",
    "              metrics=['accuracy'])"
   ]
  },
  {
   "cell_type": "code",
   "execution_count": 6,
   "metadata": {
    "colab": {
     "base_uri": "https://localhost:8080/"
    },
    "executionInfo": {
     "elapsed": 41085,
     "status": "ok",
     "timestamp": 1632750161525,
     "user": {
      "displayName": "Saksham Jain",
      "photoUrl": "https://lh3.googleusercontent.com/a/default-user=s64",
      "userId": "07973480947527882420"
     },
     "user_tz": -330
    },
    "id": "NPX7ar3f7HYg",
    "outputId": "c13e15da-7e79-4cba-e26c-f0151fee4e36"
   },
   "outputs": [
    {
     "name": "stdout",
     "output_type": "stream",
     "text": [
      "Train on 60000 samples, validate on 10000 samples\n",
      "Epoch 1/10\n",
      "60000/60000 [==============================] - 9s 146us/sample - loss: 0.2921 - acc: 0.9148 - val_loss: 0.1381 - val_acc: 0.9590\n",
      "Epoch 2/10\n",
      "60000/60000 [==============================] - 9s 146us/sample - loss: 0.1403 - acc: 0.9579 - val_loss: 0.0970 - val_acc: 0.9705\n",
      "Epoch 3/10\n",
      "60000/60000 [==============================] - 9s 153us/sample - loss: 0.1055 - acc: 0.9671 - val_loss: 0.0852 - val_acc: 0.9748\n",
      "Epoch 4/10\n",
      "60000/60000 [==============================] - 8s 133us/sample - loss: 0.0869 - acc: 0.9735 - val_loss: 0.0771 - val_acc: 0.9756\n",
      "Epoch 5/10\n",
      "60000/60000 [==============================] - 8s 139us/sample - loss: 0.0750 - acc: 0.9764 - val_loss: 0.0760 - val_acc: 0.9772\n",
      "Epoch 6/10\n",
      "60000/60000 [==============================] - 9s 142us/sample - loss: 0.0652 - acc: 0.9789 - val_loss: 0.0753 - val_acc: 0.9776\n",
      "Epoch 7/10\n",
      "60000/60000 [==============================] - 8s 139us/sample - loss: 0.0588 - acc: 0.9810 - val_loss: 0.0699 - val_acc: 0.9780\n",
      "Epoch 8/10\n",
      "60000/60000 [==============================] - 9s 144us/sample - loss: 0.0529 - acc: 0.9827 - val_loss: 0.0737 - val_acc: 0.9773\n",
      "Epoch 9/10\n",
      "60000/60000 [==============================] - 9s 156us/sample - loss: 0.0483 - acc: 0.9841 - val_loss: 0.0726 - val_acc: 0.9786\n",
      "Epoch 10/10\n",
      "60000/60000 [==============================] - 9s 154us/sample - loss: 0.0449 - acc: 0.9852 - val_loss: 0.0663 - val_acc: 0.9799\n"
     ]
    }
   ],
   "source": [
    "r = model.fit(x_train, y_train, validation_data=(x_test, y_test), epochs=10)"
   ]
  },
  {
   "cell_type": "markdown",
   "metadata": {
    "id": "dPgGgaKEu8cb"
   },
   "source": [
    "##### **Plotting Loss per Iteration**\n"
   ]
  },
  {
   "cell_type": "code",
   "execution_count": 7,
   "metadata": {
    "colab": {
     "base_uri": "https://localhost:8080/",
     "height": 0
    },
    "executionInfo": {
     "elapsed": 1154,
     "status": "ok",
     "timestamp": 1632750162668,
     "user": {
      "displayName": "Saksham Jain",
      "photoUrl": "https://lh3.googleusercontent.com/a/default-user=s64",
      "userId": "07973480947527882420"
     },
     "user_tz": -330
    },
    "id": "jHTsOaU16iR_",
    "outputId": "273ba425-28a9-4ddf-dad5-eb991afa73c6"
   },
   "outputs": [
    {
     "data": {
      "text/plain": [
       "<matplotlib.legend.Legend at 0x238bc667388>"
      ]
     },
     "execution_count": 7,
     "metadata": {},
     "output_type": "execute_result"
    },
    {
     "data": {
      "image/png": "[encoded data removed]",
      "text/plain": [
       "<Figure size 432x288 with 1 Axes>"
      ]
     },
     "metadata": {
      "needs_background": "light"
     },
     "output_type": "display_data"
    }
   ],
   "source": [
    "plt.plot(r.history['loss'], label= 'loss')\n",
    "plt.plot(r.history['val_loss'], label= 'val_loss')\n",
    "plt.legend()"
   ]
  },
  {
   "cell_type": "markdown",
   "metadata": {
    "id": "OW0FzL3f7qxp"
   },
   "source": [
    "##### **Plotting Accuracy per Iteration**\n"
   ]
  },
  {
   "cell_type": "code",
   "execution_count": 14,
   "metadata": {
    "colab": {
     "base_uri": "https://localhost:8080/",
     "height": 283
    },
    "executionInfo": {
     "elapsed": 13,
     "status": "ok",
     "timestamp": 1632750162668,
     "user": {
      "displayName": "Saksham Jain",
      "photoUrl": "https://lh3.googleusercontent.com/a/default-user=s64",
      "userId": "07973480947527882420"
     },
     "user_tz": -330
    },
    "id": "1nbEy7zJ7uBo",
    "outputId": "6c7a6520-9ecc-447a-ecac-01be612907a8",
    "scrolled": true
   },
   "outputs": [
    {
     "ename": "KeyError",
     "evalue": "'accuracy'",
     "output_type": "error",
     "traceback": [
      "\u001b[1;31m---------------------------------------------------------------------------\u001b[0m",
      "\u001b[1;31mKeyError\u001b[0m                                  Traceback (most recent call last)",
      "\u001b[1;32m<ipython-input-14-cd4d65294819>\u001b[0m in \u001b[0;36m<module>\u001b[1;34m\u001b[0m\n\u001b[1;32m----> 1\u001b[1;33m \u001b[0mplt\u001b[0m\u001b[1;33m.\u001b[0m\u001b[0mplot\u001b[0m\u001b[1;33m(\u001b[0m\u001b[0mr\u001b[0m\u001b[1;33m.\u001b[0m\u001b[0mhistory\u001b[0m\u001b[1;33m[\u001b[0m\u001b[1;34m'accuracy'\u001b[0m\u001b[1;33m]\u001b[0m\u001b[1;33m,\u001b[0m \u001b[0mlabel\u001b[0m\u001b[1;33m=\u001b[0m \u001b[1;34m'accuracy'\u001b[0m\u001b[1;33m)\u001b[0m\u001b[1;33m\u001b[0m\u001b[1;33m\u001b[0m\u001b[0m\n\u001b[0m\u001b[0;32m      2\u001b[0m \u001b[0mplt\u001b[0m\u001b[1;33m.\u001b[0m\u001b[0mplot\u001b[0m\u001b[1;33m(\u001b[0m\u001b[0mr\u001b[0m\u001b[1;33m.\u001b[0m\u001b[0mhistory\u001b[0m\u001b[1;33m[\u001b[0m\u001b[1;34m'val_accuracy'\u001b[0m\u001b[1;33m]\u001b[0m\u001b[1;33m,\u001b[0m \u001b[0mlabel\u001b[0m\u001b[1;33m=\u001b[0m \u001b[1;34m'val_accuracy'\u001b[0m\u001b[1;33m)\u001b[0m\u001b[1;33m\u001b[0m\u001b[1;33m\u001b[0m\u001b[0m\n\u001b[0;32m      3\u001b[0m \u001b[0mplt\u001b[0m\u001b[1;33m.\u001b[0m\u001b[0mlegend\u001b[0m\u001b[1;33m(\u001b[0m\u001b[1;33m)\u001b[0m\u001b[1;33m\u001b[0m\u001b[1;33m\u001b[0m\u001b[0m\n",
      "\u001b[1;31mKeyError\u001b[0m: 'accuracy'"
     ]
    }
   ],
   "source": [
    "plt.plot(r.history['accuracy'], label= 'accuracy')\n",
    "plt.plot(r.history['val_accuracy'], label= 'val_accuracy')\n",
    "plt.legend()"
   ]
  },
  {
   "cell_type": "markdown",
   "metadata": {
    "id": "A4x6e638-Afq"
   },
   "source": [
    "#### **Model Evaluation**"
   ]
  },
  {
   "cell_type": "code",
   "execution_count": 9,
   "metadata": {
    "colab": {
     "base_uri": "https://localhost:8080/"
    },
    "executionInfo": {
     "elapsed": 799,
     "status": "ok",
     "timestamp": 1632750163458,
     "user": {
      "displayName": "Saksham Jain",
      "photoUrl": "https://lh3.googleusercontent.com/a/default-user=s64",
      "userId": "07973480947527882420"
     },
     "user_tz": -330
    },
    "id": "eEX6MiFS-GcA",
    "outputId": "25a717dc-a915-46ff-c2be-cdc336866154"
   },
   "outputs": [
    {
     "name": "stdout",
     "output_type": "stream",
     "text": [
      "10000/10000 [==============================] - 1s 77us/sample - loss: 0.0663 - acc: 0.9799\n",
      "[0.06633542306605378, 0.9799]\n"
     ]
    }
   ],
   "source": [
    "print(model.evaluate(x_test, y_test))"
   ]
  },
  {
   "cell_type": "markdown",
   "metadata": {
    "id": "oGHwnHp6-gSq"
   },
   "source": [
    "#### **Confusion Matrix**"
   ]
  },
  {
   "cell_type": "code",
   "execution_count": 10,
   "metadata": {
    "colab": {
     "base_uri": "https://localhost:8080/",
     "height": 0
    },
    "executionInfo": {
     "elapsed": 830,
     "status": "ok",
     "timestamp": 1632750164282,
     "user": {
      "displayName": "Saksham Jain",
      "photoUrl": "https://lh3.googleusercontent.com/a/default-user=s64",
      "userId": "07973480947527882420"
     },
     "user_tz": -330
    },
    "id": "8euURO_2-k2w",
    "outputId": "a5c4f265-9745-45e4-d014-b68f27c345f4"
   },
   "outputs": [
    {
     "name": "stdout",
     "output_type": "stream",
     "text": [
      "Confusion matrix without normalization\n",
      "[[ 968    0    1    2    2    2    3    1    1    0]\n",
      " [   0 1124    2    2    0    0    1    1    5    0]\n",
      " [   4    0 1007    5    2    0    2    6    6    0]\n",
      " [   0    0    3  994    0    6    0    3    2    2]\n",
      " [   1    0    4    0  967    0    5    0    1    4]\n",
      " [   2    0    0    7    0  874    3    1    3    2]\n",
      " [   3    3    0    1    3    5  942    0    1    0]\n",
      " [   0    4    9    3    0    0    0 1004    2    6]\n",
      " [   3    0    3    7    5    4    2    4  943    3]\n",
      " [   2    2    0    8   12    2    0    2    5  976]]\n"
     ]
    },
    {
     "data": {
      "image/png": "[encoded data removed]",
      "text/plain": [
       "<Figure size 432x288 with 2 Axes>"
      ]
     },
     "metadata": {
      "needs_background": "light"
     },
     "output_type": "display_data"
    }
   ],
   "source": [
    "from sklearn.metrics import confusion_matrix\n",
    "import itertools\n",
    "\n",
    "def plot_confusion_matrix(cm, classes,\n",
    "                          normalize = False,\n",
    "                          title=\"Confusion Matrix\",\n",
    "                          cmap = plt.cm.Blues):\n",
    "  \n",
    "  \"\"\"\n",
    "  This function prints and plots the confusion matrix.\n",
    "  Normalize can be applied by setting 'normalize = True'\n",
    "  \"\"\"\n",
    "  \n",
    "  if normalize:\n",
    "    cm = cm.astype('float') / cm.sum(axis=1)[:,np.newaxis]\n",
    "    print(\"Normalized Confusion Matrix\")\n",
    "  \n",
    "  else:\n",
    "    print(\"Confusion matrix without normalization\")\n",
    "  \n",
    "  print(cm)\n",
    "\n",
    "  plt.imshow(cm, interpolation='nearest', cmap=cmap)\n",
    "  plt.title(title)\n",
    "  plt.colorbar()\n",
    "  tick_marks = np.arange(len(classes))\n",
    "  plt.xticks(tick_marks, classes, rotation=45)\n",
    "  plt.yticks(tick_marks, classes)\n",
    "\n",
    "  fmt = '.2f' if normalize else 'd'\n",
    "  thresh = cm.max() / 2.\n",
    "  for i, j in itertools.product(range(cm.shape[0]), range(cm.shape[1])):\n",
    "    plt.text(j, i, format(cm[i, j], fmt),\n",
    "             horizontalalignment = 'center',\n",
    "             color = \"white\" if cm[i, j] > thresh else \"black\")\n",
    "    \n",
    "  plt.tight_layout()\n",
    "  plt.ylabel('True label')\n",
    "  plt.xlabel('Predicted label')\n",
    "  plt.show()\n",
    "\n",
    "p_test = model.predict(x_test).argmax(axis=1)\n",
    "cm = confusion_matrix(y_test, p_test)\n",
    "plot_confusion_matrix(cm, list(range(10)))           "
   ]
  },
  {
   "cell_type": "markdown",
   "metadata": {
    "id": "cpr1hv6giMdC"
   },
   "source": [
    "##### **Do these results make sense?**\n",
    "- It's easy to confuse 9 <--> 4, 9 <--> 7, 2 <--> 7, etc."
   ]
  },
  {
   "cell_type": "markdown",
   "metadata": {
    "id": "_KSXVyMRu8Zk"
   },
   "source": [
    "### **Plotting few Places where the Model went wrong**"
   ]
  },
  {
   "cell_type": "code",
   "execution_count": 11,
   "metadata": {
    "colab": {
     "base_uri": "https://localhost:8080/",
     "height": 281
    },
    "executionInfo": {
     "elapsed": 9,
     "status": "ok",
     "timestamp": 1632750164283,
     "user": {
      "displayName": "Saksham Jain",
      "photoUrl": "https://lh3.googleusercontent.com/a/default-user=s64",
      "userId": "07973480947527882420"
     },
     "user_tz": -330
    },
    "id": "jLkqfvvgie-B",
    "outputId": "38ad1e0b-9d5a-4d82-d3a4-378bdb7e7bf4"
   },
   "outputs": [
    {
     "data": {
      "image/png": "[encoded data removed]",
      "text/plain": [
       "<Figure size 432x288 with 1 Axes>"
      ]
     },
     "metadata": {
      "needs_background": "light"
     },
     "output_type": "display_data"
    }
   ],
   "source": [
    "misclassified_idx = np.where(p_test != y_test)[0]\n",
    "i = np.random.choice(misclassified_idx)\n",
    "plt.imshow(x_test[i], cmap= 'gray')\n",
    "plt.title(\"True label: %s Predicted: %s\" % (y_test[i], p_test[i]));"
   ]
  },
  {
   "cell_type": "code",
   "execution_count": null,
   "metadata": {},
   "outputs": [],
   "source": []
  }
 ],
 "metadata": {
  "colab": {
   "authorship_tag": "ABX9TyOVJIxK5UguX/TKz3PyR41V",
   "collapsed_sections": [],
   "name": "ANN Classification MNIST.ipynb",
   "provenance": []
  },
  "kernelspec": {
   "display_name": "Python 3",
   "language": "python",
   "name": "python3"
  },
  "language_info": {
   "codemirror_mode": {
    "name": "ipython",
    "version": 3
   },
   "file_extension": ".py",
   "mimetype": "text/x-python",
   "name": "python",
   "nbconvert_exporter": "python",
   "pygments_lexer": "ipython3",
   "version": "3.7.4"
  }
 },
 "nbformat": 4,
 "nbformat_minor": 1
}
